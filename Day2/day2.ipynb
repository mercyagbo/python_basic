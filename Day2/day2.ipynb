{
 "cells": [
  {
   "cell_type": "markdown",
   "metadata": {},
   "source": [
    "## String Conversion\n",
    "* You can convert a string to a number by using the int() function. you will get an error if you try to convert a string that contains a non-numeric character.\n",
    "* You can convert a string to a float by using the float() function. You will get an error if you try to convert a string that contains a non-numeric character.\n",
    "* You can convert any data type to a string by using the str() function.\n"
   ]
  },
  {
   "cell_type": "code",
   "execution_count": null,
   "metadata": {},
   "outputs": [],
   "source": [
    "\n"
   ]
  },
  {
   "cell_type": "code",
   "execution_count": 2,
   "metadata": {},
   "outputs": [],
   "source": [
    "numInt = 1 # This an assignment statement, i'm assigning the value 1 to the variable num, the value is an integer\n",
    "numStr = \"1\" # This an assignment statement, i'm assigning the value \"1\" to the variable num, the value is a string"
   ]
  },
  {
   "cell_type": "code",
   "execution_count": 3,
   "metadata": {},
   "outputs": [
    {
     "name": "stdout",
     "output_type": "stream",
     "text": [
      "2\n",
      "1\n",
      "<class 'str'>\n",
      "numInt is which is 1 is an integer\n"
     ]
    }
   ],
   "source": [
    "print(numInt + int(numStr))\n",
    "print(numStr) # This is a string\n",
    "print(type(numStr)) # This is a string\n",
    "\n",
    "print(\"numInt is which is \" + str(numInt) + \" is an integer\") # This is a string"
   ]
  },
  {
   "cell_type": "code",
   "execution_count": null,
   "metadata": {},
   "outputs": [],
   "source": []
  },
  {
   "cell_type": "code",
   "execution_count": 4,
   "metadata": {},
   "outputs": [
    {
     "name": "stdout",
     "output_type": "stream",
     "text": [
      "12\n"
     ]
    }
   ],
   "source": [
    "# adding two strings\n",
    "number = \"1\" # is a string\n",
    "print(number + \"2\") # We are concatenating a string with a string that is adding a string to a string\n"
   ]
  },
  {
   "cell_type": "code",
   "execution_count": 5,
   "metadata": {},
   "outputs": [
    {
     "ename": "TypeError",
     "evalue": "can only concatenate str (not \"int\") to str",
     "output_type": "error",
     "traceback": [
      "\u001b[1;31m---------------------------------------------------------------------------\u001b[0m",
      "\u001b[1;31mTypeError\u001b[0m                                 Traceback (most recent call last)",
      "\u001b[1;32m~\\AppData\\Local\\Temp\\ipykernel_14292\\845153544.py\u001b[0m in \u001b[0;36m<module>\u001b[1;34m\u001b[0m\n\u001b[0;32m      1\u001b[0m \u001b[0mnumber\u001b[0m \u001b[1;33m=\u001b[0m \u001b[1;34m\"1\"\u001b[0m \u001b[1;31m# is a string\u001b[0m\u001b[1;33m\u001b[0m\u001b[0m\n\u001b[1;32m----> 2\u001b[1;33m \u001b[0mprint\u001b[0m\u001b[1;33m(\u001b[0m\u001b[0mnumber\u001b[0m \u001b[1;33m+\u001b[0m \u001b[1;36m2\u001b[0m\u001b[1;33m)\u001b[0m \u001b[1;31m# We are concatenating a string with a number that is adding a string to a number will fail\u001b[0m\u001b[1;33m\u001b[0m\u001b[0m\n\u001b[0m\u001b[0;32m      3\u001b[0m                   \u001b[1;31m# because the number is not a string so cannot concatenated(add) number and a string.\u001b[0m\u001b[1;33m\u001b[0m\u001b[1;33m\u001b[0m\u001b[0m\n\u001b[0;32m      4\u001b[0m \u001b[1;31m# To fix this we can convert the number to a integer using int() function if you want tpo add those two numbers\u001b[0m\u001b[1;33m\u001b[0m\u001b[1;33m\u001b[0m\u001b[0m\n\u001b[0;32m      5\u001b[0m \u001b[0mprint\u001b[0m\u001b[1;33m(\u001b[0m\u001b[0mint\u001b[0m\u001b[1;33m(\u001b[0m\u001b[0mnumber\u001b[0m\u001b[1;33m)\u001b[0m \u001b[1;33m+\u001b[0m \u001b[1;36m2\u001b[0m\u001b[1;33m)\u001b[0m \u001b[1;31m# We are adding the variable number to 2 and the result is 3 the type is temporaryconverted to integer\u001b[0m\u001b[1;33m\u001b[0m\u001b[0m\n",
      "\u001b[1;31mTypeError\u001b[0m: can only concatenate str (not \"int\") to str"
     ]
    }
   ],
   "source": [
    "number = \"1\" # is a string\n",
    "print(number + 2) # We are concatenating a string with a number that is adding a string to a number will fail\n",
    "                  # because the number is not a string so cannot concatenated(add) number and a string.\n",
    "# To fix this we can convert the number to a integer using int() function if you want tpo add those two numbers\n",
    "print(int(number) + 2) # We are adding the variable number to 2 and the result is 3 the type is temporaryconverted to integer"
   ]
  },
  {
   "cell_type": "code",
   "execution_count": null,
   "metadata": {},
   "outputs": [],
   "source": [
    "number = 1 # is an integer\n",
    "print(number + 2) # We are adding an integer with an integer that is adding an integer to an integer"
   ]
  },
  {
   "cell_type": "code",
   "execution_count": null,
   "metadata": {},
   "outputs": [],
   "source": [
    "number = \"1.0\" # is a string\n",
    "# This is a string that can be converted to a float\n",
    "print(float(number) + 2) # We are adding the variable number to 2 and the result is 3.0 the type is temporaryconverted to float"
   ]
  },
  {
   "cell_type": "code",
   "execution_count": null,
   "metadata": {},
   "outputs": [],
   "source": [
    "# str() function converts float and int to a string\n",
    "amount = 250.0 # is a float\n",
    "print(str(amount) + \" dollars\") # We are adding the variable amount to \" dollars\" and the result is \"250.0 dollars\"\n",
    "# to add the $ sign to the amount we can use the str() function\n",
    "print(str(amount) + \"$\") # We are adding the variable amount to \"$\" and the result is \"250$\"\n",
    "# or \n",
    "print(\"$\" + str(amount)) # We are adding the variable amount to \"$\" and the result is \"$250\""
   ]
  },
  {
   "cell_type": "code",
   "execution_count": null,
   "metadata": {},
   "outputs": [],
   "source": [
    "print(\"$\" + str(amount) )"
   ]
  },
  {
   "cell_type": "markdown",
   "metadata": {},
   "source": [
    "Exercise:\n",
    "Convert the following numbers to strings:\n",
    "number1 = 12\n",
    "number2 = 3.14\n",
    "Convert the following strings to numbers:\n",
    "string1 = '12'\n",
    "string2 = '3'\n",
    "Convert the following strings to floats:\n",
    "string3 = '12.34'\n",
    "string4 = '3.14'"
   ]
  },
  {
   "cell_type": "code",
   "execution_count": null,
   "metadata": {},
   "outputs": [],
   "source": [
    "#Solution to conver a number to a string\n",
    "number1 = 12 # is an integer or number\n",
    "number2 = 3.14\n",
    "# to convert a number to a string\n",
    "number1Str = str(number1) # user the str() function to convert the number to a string\n",
    "print(number1Str) \n",
    "print(\"-----------------print the type--------------\")\n",
    "print(type(number1Str)) # or \n",
    "print(str(number1), type(str(number1))) # This is a temporary conversion to a string\n"
   ]
  },
  {
   "cell_type": "code",
   "execution_count": null,
   "metadata": {},
   "outputs": [],
   "source": [
    "# Solution2  to convert a string to a number\n",
    "string1 = '14' # this is a string\n",
    "string2 = '3'\n",
    "string1Num = int(string1) # user the int() function to convert the string to a number\n",
    "print(type(string1Num))"
   ]
  },
  {
   "cell_type": "code",
   "execution_count": null,
   "metadata": {},
   "outputs": [],
   "source": [
    "# Solution to convert a string to a float\n",
    "string3 = '12.34' # this is a string\n",
    "string4 = '3.14'\n",
    "string3Float = float(string3) # user the float() function to convert the string to a float\n",
    "print(type(string3Float))"
   ]
  },
  {
   "cell_type": "markdown",
   "metadata": {},
   "source": [
    "## User Input\n",
    "* You can get user input by using the input() function.\n",
    "* By default, the input() function will return a string.\n",
    "* You can get user input and convert it to a number by using the int() function.\n",
    "* You can get user input and convert it to a float by using the float() function.\n"
   ]
  },
  {
   "cell_type": "code",
   "execution_count": 5,
   "metadata": {},
   "outputs": [],
   "source": [
    "# Using the input() function to ask the user for input\n",
    "name = input(\"What is your name? \") # We are asking the user for input and storing it in the variable name\n",
    "age = input(\"What is your age? \") # We are asking the user for input and storing it in the variable number\n"
   ]
  },
  {
   "cell_type": "code",
   "execution_count": 8,
   "metadata": {},
   "outputs": [
    {
     "name": "stdout",
     "output_type": "stream",
     "text": [
      "<class 'str'>\n",
      "<class 'int'>\n"
     ]
    }
   ],
   "source": [
    "print(type(age))\n",
    "print(type(int(age)))"
   ]
  },
  {
   "cell_type": "code",
   "execution_count": null,
   "metadata": {},
   "outputs": [],
   "source": [
    "age2x = int(age) * 2\n",
    "print(age2x)\n",
    "print(type(age))"
   ]
  },
  {
   "cell_type": "code",
   "execution_count": null,
   "metadata": {},
   "outputs": [],
   "source": [
    "# checking the variable name type\n",
    "print(name)\n",
    "print(type(name)) # We are printing the type of the variable name\n",
    "\n",
    "print(\"-------------------checking the age variable-----------------------------\")\n",
    "# checking the variable number type\n",
    "print(age)\n",
    "print(type(age)) # We are printing the type of the variable number\n"
   ]
  },
  {
   "cell_type": "code",
   "execution_count": null,
   "metadata": {},
   "outputs": [],
   "source": [
    "print(\"Hello \" + name) # We are adding the variable name to \"Hello\" and the result is \"Hello John\""
   ]
  },
  {
   "cell_type": "code",
   "execution_count": null,
   "metadata": {},
   "outputs": [],
   "source": [
    "age = input(\"What is your age? \")"
   ]
  },
  {
   "cell_type": "markdown",
   "metadata": {},
   "source": [
    "Excercise:\n",
    "* Ask the user for their name and age. and convert their age to a number."
   ]
  },
  {
   "cell_type": "code",
   "execution_count": null,
   "metadata": {},
   "outputs": [],
   "source": [
    "age = input(\"What is your age? \")\n",
    "age = int(age)\n",
    "print(\"You entered \" + str(age)) \n",
    "print(type(age))\n"
   ]
  },
  {
   "cell_type": "code",
   "execution_count": null,
   "metadata": {},
   "outputs": [],
   "source": [
    "# solutiion 1\n",
    "ageInt = int(age) # We are converting the variable age to an integer\n",
    "print(type(ageInt))"
   ]
  },
  {
   "cell_type": "code",
   "execution_count": null,
   "metadata": {},
   "outputs": [],
   "source": [
    "# solution 2\n",
    "age = int(age) # We are converting the variable age to an integer\n",
    "print(type(age))\n",
    "print(age)"
   ]
  },
  {
   "cell_type": "code",
   "execution_count": null,
   "metadata": {},
   "outputs": [],
   "source": [
    "# solution 3\n",
    "age = int(input(\"What is your age? \")) # We are asking the user for input and storing it in the variable age\n",
    "print(age)\n",
    "print(type(age))"
   ]
  },
  {
   "cell_type": "code",
   "execution_count": null,
   "metadata": {},
   "outputs": [],
   "source": [
    "age = int(input(\"What is your age?: \"))"
   ]
  },
  {
   "cell_type": "code",
   "execution_count": null,
   "metadata": {},
   "outputs": [],
   "source": []
  },
  {
   "cell_type": "code",
   "execution_count": null,
   "metadata": {},
   "outputs": [],
   "source": []
  },
  {
   "cell_type": "markdown",
   "metadata": {},
   "source": [
    "## Conditional Execution\n",
    "## Mathematical Operators for Comparison\n",
    "* The comparison operators are used to compare two values.\n",
    "* These operators return a boolean value.\n",
    "* The comparison operators are:\n",
    "* == (equal to): we check if the values are equal.\n",
    "* != (not equal to): we check if the values are not equal.\n",
    "* < (less than)\n",
    "* `>` (greater than)\n",
    "* <= (less than or equal to)\n",
    "* `>`= (greater than or equal to)\n",
    "\n",
    "Note:   \n",
    "* = operator is used to assign a value to a variable. not used to compare values."
   ]
  },
  {
   "cell_type": "code",
   "execution_count": null,
   "metadata": {},
   "outputs": [],
   "source": [
    "x = 6  # This is an assignment statement we are telling the computer to store the value 6 in the variable x"
   ]
  },
  {
   "cell_type": "code",
   "execution_count": null,
   "metadata": {},
   "outputs": [],
   "source": [
    "print(x==7)"
   ]
  },
  {
   "cell_type": "code",
   "execution_count": null,
   "metadata": {},
   "outputs": [],
   "source": [
    "\n",
    "if x == 6: # This is an if statement we are telling the computer to check if the value of x is equal to 6\n",
    "    print(\"x is 6\")\n",
    "    print(\"The condition is true\")"
   ]
  },
  {
   "cell_type": "code",
   "execution_count": null,
   "metadata": {},
   "outputs": [],
   "source": [
    "if x == 5:\n",
    "    print(\"we are in the if statement\")\n",
    "    print(\"The condition is true\")\n",
    "    print(\"Yes x is 6\")\n",
    "    \n",
    "print(\"we are outside the if statement\")\n",
    "print(\"Even if the condition is false, this code will still run\")\n",
    "    \n"
   ]
  },
  {
   "cell_type": "code",
   "execution_count": null,
   "metadata": {},
   "outputs": [],
   "source": [
    "if x < 6: # This is an if statement we are telling the computer to check if the value of x is less than 6\n",
    "    print(\"x is less than 6\")\n",
    "    print(\"The condition is true\")\n",
    "\n",
    "# this code will not run because the condition is false"
   ]
  },
  {
   "cell_type": "code",
   "execution_count": null,
   "metadata": {},
   "outputs": [],
   "source": [
    "if x >= 6: # This is an if statement we are telling the computer to check if the value of x is greater than or equal to 6\n",
    "    print(\"x is greater than or equal to 6\")\n",
    "    print(\"The condition is true\")"
   ]
  },
  {
   "cell_type": "code",
   "execution_count": null,
   "metadata": {},
   "outputs": [],
   "source": [
    "getNumber = int(input(\"Enter a number: \"))\n",
    "\n",
    "print(\"I will tell you if the number is positive or negative\")\n",
    "\n",
    "if getNumber < 0:\n",
    "    print(\"the number is negative\")\n",
    "elif getNumber > 0:\n",
    "    print(\"the number is positive\")\n",
    "else:\n",
    "    print(\"The number is Zero\")"
   ]
  },
  {
   "cell_type": "code",
   "execution_count": null,
   "metadata": {},
   "outputs": [],
   "source": []
  },
  {
   "cell_type": "markdown",
   "metadata": {},
   "source": [
    "\n",
    "Excercise: \n",
    "* Ask the user for their name.\n",
    "* Ask the user for the number of hours they worked this week.\n",
    "* Ask the user for their hourly rate.\n",
    "* Calculate their weekly pay.\n",
    "* if the user worked more than 40 hours, calculate their overtime pay.\n",
    "* overtime pay is 1.5 times the hourly rate for the hours worked above 40.\n",
    "* print out their name and pay.\n",
    "Remeber:\n",
    "    input() returns a string. you must convert hours and rate to the appropriate data type."
   ]
  },
  {
   "cell_type": "code",
   "execution_count": 6,
   "metadata": {},
   "outputs": [
    {
     "name": "stdout",
     "output_type": "stream",
     "text": [
      "The code continues to run\n",
      "if the hours is valid we will continue\n",
      "Overtime here\n",
      "error\n",
      "tERRY worked: 55.0 at a regular rate of 20.0$\\hrand an overtime rate of 30.0\n",
      "tERRY's Pay of this week is $0\n"
     ]
    }
   ],
   "source": [
    "name = input(\"What is your name? \")\n",
    "hours = input(\"how many hours did you work this week? \")\n",
    "rate = input(\"What is your hourly rate? \")\n",
    "try:\n",
    "    hours = float(hours)\n",
    "except:\n",
    "    print(\"You did not enter a valid response for hours\")\n",
    "try:    \n",
    "    rate = float(rate)\n",
    "except:\n",
    "    print(\"You did not enter a valid response for rate\")\n",
    "    rate = 0\n",
    "\n",
    "print(\"The code continues to run\")\n",
    "\n",
    "# overtime_rate = 1.5*rate\n",
    "\n",
    "print(\"if the hours is valid we will continue\")\n",
    "if hours <= 40:\n",
    "    print(\"the code continues to run in the if statement\")\n",
    "    print(\"if the rate is invalid the code will break\")\n",
    "    pay = rate * hours\n",
    "\n",
    "elif hours > 40:\n",
    "    try:\n",
    "        print(\"Overtime here\")\n",
    "        overtime_hours = hours - 40\n",
    "        overtime_pay = overtime_rate * overtime_hours\n",
    "        pay = rate*40 + overtime_pay\n",
    "    except:\n",
    "        print(\"The code will break here\")\n",
    "        pay = 0\n",
    "\n",
    "print(name + \" worked: \" + str(hours) + \" at a regular rate of \" + str(rate) + \"$\\hr\" + \"and an overtime rate of \" + str(rate*1.5) )\n",
    "print(name + \"'s\" + \" Pay of this week is $\" + str(pay))\n",
    "\n"
   ]
  },
  {
   "cell_type": "code",
   "execution_count": null,
   "metadata": {},
   "outputs": [],
   "source": []
  },
  {
   "cell_type": "code",
   "execution_count": null,
   "metadata": {},
   "outputs": [],
   "source": [
    "hours = input(\"Enter hours worked this week: \") # We are asking the user for input the hours worked  and storing it in the variable hours\n",
    "rate = input(\"Enter your pay rate: \")\n",
    "name = input(\"please enter your name: \")\n",
    "hours = float(hours)\n",
    "rate = float(rate)\n",
    "overtime_rate = rate*1.5\n",
    "\n",
    "if hours <= 40: # if the user worked less than 40hrs \n",
    "    pay = rate * hours\n",
    "elif hours > 40:\n",
    "    overtime_hours = hours - 40\n",
    "    overtime_pay = overtime_hours * overtime_rate\n",
    "    pay = (40 * rate) + overtime_pay\n",
    "print(name + \" week's pay is: \" + \"$\" + str(pay))\n",
    "    \n"
   ]
  }
 ],
 "metadata": {
  "interpreter": {
   "hash": "854bdde8274e107395231dd6718fd565d5e83edd780eeccab4e7084d2cfd2f17"
  },
  "kernelspec": {
   "display_name": "Python 3.7.0 32-bit",
   "language": "python",
   "name": "python3"
  },
  "language_info": {
   "codemirror_mode": {
    "name": "ipython",
    "version": 3
   },
   "file_extension": ".py",
   "mimetype": "text/x-python",
   "name": "python",
   "nbconvert_exporter": "python",
   "pygments_lexer": "ipython3",
   "version": "3.9.7"
  },
  "orig_nbformat": 4
 },
 "nbformat": 4,
 "nbformat_minor": 2
}

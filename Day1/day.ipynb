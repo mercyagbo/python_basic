{
 "cells": [
  {
   "cell_type": "markdown",
   "metadata": {},
   "source": [
    "## What is a Program?\n",
    "* A program is a collection or sequence of instructions that can be executed by a computer.\n",
    "* We provide the instructions in a programming language.\n",
    "* A programming language is a set of rules that converts strings of text into instructions that can be executed by a computer.\n",
    "\n",
    "## What is code?\n",
    "* Instruction(s) that are written in a programming language.\n",
    "* These instructions are executed by a computer.\n",
    "\n",
    "## Examples of programming languages\n",
    "* Python\n",
    "* C++\n",
    "* JavaScript\n",
    "* go\n",
    "* Java\n",
    "* PHP\n",
    "* Ruby\n",
    "* Swift, etc.\n",
    "\n",
    "Human beings are good at programming.\n",
    "We program everyday. When you dance, you program.\n",
    "\n",
    "\n",
    "\n",
    "\n"
   ]
  },
  {
   "cell_type": "code",
   "execution_count": 1,
   "metadata": {},
   "outputs": [
    {
     "name": "stdout",
     "output_type": "stream",
     "text": [
      "hello\n"
     ]
    }
   ],
   "source": [
    "print(\"hello\")"
   ]
  },
  {
   "cell_type": "code",
   "execution_count": 47,
   "metadata": {},
   "outputs": [
    {
     "name": "stdout",
     "output_type": "stream",
     "text": [
      "hi\n"
     ]
    }
   ],
   "source": [
    "print(\"hi\")"
   ]
  },
  {
   "cell_type": "markdown",
   "metadata": {},
   "source": [
    "## Types of Errors in Programming\n",
    "* Syntax Error\n",
    "* Runtime Error\n",
    "* Logic Error\n",
    "\n",
    "## Syntax Error\n",
    "* A syntax error is an error in the syntax of a program. you did not follow the rules of the language.\n",
    "* Syntax errors are usually caused by a typo.\n",
    "\n",
    "## Runtime Error\n",
    "* A runtime error is an error that occurs during the execution of a program.\n",
    "* Runtime errors are usually caused by a bug in the program.\n",
    "\n",
    "## Logic Error\n",
    "* A logic error is an error in the logic of a program.\n",
    "* Logic errors are usually caused by a mistake in the program. You did not think things through.\n",
    "* A logic error is a mistake in the program that causes the program to behave in an unexpected way.\n",
    "* loggical errors are very difficult to find and fix."
   ]
  },
  {
   "cell_type": "markdown",
   "metadata": {},
   "source": [
    "## Python Syntax\n",
    "* Each line in a Python script is a statement.\n",
    "* A statement is a line of code that does something.\n",
    "* Use backslash character \\ to join a statement span over multiple lines, as shown below.\n",
    "As shown below, the statement is broken into two lines."
   ]
  },
  {
   "cell_type": "code",
   "execution_count": 48,
   "metadata": {},
   "outputs": [
    {
     "name": "stdout",
     "output_type": "stream",
     "text": [
      "Hello World!\n"
     ]
    }
   ],
   "source": [
    "if 100 > 99 and \\\n",
    "    200 <= 300 and \\\n",
    "    True != False:\n",
    "        print('Hello World!')"
   ]
  },
  {
   "cell_type": "code",
   "execution_count": 49,
   "metadata": {},
   "outputs": [
    {
     "name": "stdout",
     "output_type": "stream",
     "text": [
      "id:  1\n",
      "First Name:  Steve\n",
      "Last Name:  Jobs\n"
     ]
    }
   ],
   "source": [
    "## Use the semicolon ; to separate multiple statements in a single line.\n",
    "print('id: ', 1);print('First Name: ', 'Steve');print('Last Name: ', 'Jobs')"
   ]
  },
  {
   "cell_type": "markdown",
   "metadata": {},
   "source": [
    "## Indentation rules\n",
    "Use the colon : to start a block and press Enter.\n",
    "All the lines in a block must use the same indentation, either space or a tab.\n",
    "Python recommends four spaces as indentation to make the code more readable. Do not mix space and tab in the same block.\n",
    "A block can have inner blocks with next level indentation."
   ]
  },
  {
   "cell_type": "code",
   "execution_count": 50,
   "metadata": {},
   "outputs": [
    {
     "name": "stdout",
     "output_type": "stream",
     "text": [
      "10 is greater than 5\n",
      "Now checking 20 > 10\n",
      "20 is greater than 10\n"
     ]
    }
   ],
   "source": [
    "if 10 > 5:  # 1st block starts\n",
    "    print(\"10 is greater than 5\") # 1st block\n",
    "    print(\"Now checking 20 > 10\") # 1st block\n",
    "    if 20 > 10: # 1st block\n",
    "        print(\"20 is greater than 10\") # inner block\n",
    "else:\n",
    "    print(\"10 is less than 5\") # 2nd block\n",
    "    print(\"This will never print\") # 2nd block"
   ]
  },
  {
   "cell_type": "markdown",
   "metadata": {},
   "source": [
    "## Variables\n",
    "* A variable is a named location in memory that holds a value.\n",
    "* Like a bucket, a variable can hold a value."
   ]
  },
  {
   "cell_type": "markdown",
   "metadata": {},
   "source": [
    "When creating a variable:\n",
    "you want your variable name to be descriptive.\n",
    "all variable names should start with a letter or an underscore, and lowercase letters can be followed by numbers.\n",
    "\n",
    "NOTE:\n",
    "* Python is case sensitive."
   ]
  },
  {
   "cell_type": "code",
   "execution_count": 51,
   "metadata": {},
   "outputs": [
    {
     "ename": "NameError",
     "evalue": "name 'Name' is not defined",
     "output_type": "error",
     "traceback": [
      "\u001b[1;31m---------------------------------------------------------------------------\u001b[0m",
      "\u001b[1;31mNameError\u001b[0m                                 Traceback (most recent call last)",
      "\u001b[1;32m~\\AppData\\Local\\Temp\\ipykernel_22916\\2380805939.py\u001b[0m in \u001b[0;36m<module>\u001b[1;34m\u001b[0m\n\u001b[0;32m      1\u001b[0m \u001b[1;31m# this is to show python is case sensitive\u001b[0m\u001b[1;33m\u001b[0m\u001b[1;33m\u001b[0m\u001b[0m\n\u001b[0;32m      2\u001b[0m \u001b[0mname\u001b[0m \u001b[1;33m=\u001b[0m \u001b[1;34m'Steve'\u001b[0m\u001b[1;33m\u001b[0m\u001b[0m\n\u001b[1;32m----> 3\u001b[1;33m \u001b[0mprint\u001b[0m\u001b[1;33m(\u001b[0m\u001b[0mName\u001b[0m\u001b[1;33m)\u001b[0m\u001b[1;33m\u001b[0m\u001b[0m\n\u001b[0m",
      "\u001b[1;31mNameError\u001b[0m: name 'Name' is not defined"
     ]
    }
   ],
   "source": [
    "# this is to show python is case sensitive\n",
    "name = 'Steve'\n",
    "print(Name)"
   ]
  },
  {
   "cell_type": "code",
   "execution_count": null,
   "metadata": {},
   "outputs": [],
   "source": [
    "my_name = \"terrence\" # variable definition an assignment statement\n",
    "print(my_name)\n",
    "my_name = \"terrence_again\" # variable definition and will overwrite the previous value\n",
    "print(my_name)  # this is a statement\n",
    "print(my_name)\n",
    "\n",
    "x = 10 # 10 is an integer and a constant and x is a variable\n",
    "y = 20\n",
    "z = x + y ## This is an expression and an assignment statement\n",
    "print(z)  # print statement\n",
    "\n",
    "\n",
    "\n"
   ]
  },
  {
   "cell_type": "markdown",
   "metadata": {},
   "source": [
    "## Numberic Expressions\n",
    "* A numeric expression is a mathematical expression that evaluates to a number.\n",
    "Operators: + - * / % ** \n",
    "// is integer division"
   ]
  },
  {
   "cell_type": "code",
   "execution_count": null,
   "metadata": {},
   "outputs": [],
   "source": [
    "## Numeric Expressions\n",
    "print(7/2) # regular division\n",
    "print(7//2) # floor division or integer division\n",
    "print(9%5) # modulo or remainder\n",
    "print(2**3) # exponentiation\n",
    "print(2+2) # addition\n",
    "print(2-2) # subtraction\n",
    "print(2*2) # multiplication"
   ]
  },
  {
   "cell_type": "markdown",
   "metadata": {},
   "source": [
    "## Other of Operations\n",
    "* Parentheses\n",
    "* Exponents / Power\n",
    "* Multiplication and Division\n",
    "* Addition and Subtraction\n",
    "* left to right \n"
   ]
  },
  {
   "cell_type": "markdown",
   "metadata": {},
   "source": [
    "## Exercise\n",
    "Write a program that calculates the wages of a person. make sure to use variables to store the values.\n",
    "pay rate is $10/hr\n",
    "hours worked is 25"
   ]
  },
  {
   "cell_type": "code",
   "execution_count": 53,
   "metadata": {},
   "outputs": [
    {
     "name": "stdout",
     "output_type": "stream",
     "text": [
      "250\n"
     ]
    }
   ],
   "source": [
    "hours = 25\n",
    "rate = 10\n",
    "pay = hours * rate\n",
    "print(pay)"
   ]
  },
  {
   "cell_type": "markdown",
   "metadata": {},
   "source": [
    "## String concatenation\n",
    "* Add two strings together. use the + operator."
   ]
  },
  {
   "cell_type": "markdown",
   "metadata": {},
   "source": [
    "## Commenting in Python\n",
    "* Use the # character to comment out a line of code."
   ]
  },
  {
   "cell_type": "code",
   "execution_count": 2,
   "metadata": {},
   "outputs": [
    {
     "name": "stdout",
     "output_type": "stream",
     "text": [
      "Steve\n"
     ]
    }
   ],
   "source": [
    "name = 'Steve'\n",
    "print(name)\n",
    "# print(\"hellp\" + name)"
   ]
  },
  {
   "cell_type": "markdown",
   "metadata": {},
   "source": [
    "## Variable Types\n",
    "* string  - a sequence of characters \"hello\"\n",
    "* integer - a number without a decimal point, like 1, 2, 3, 4, 5, 6, 7, 8, 9, 10\n",
    "* float   - a number with a decimal point, like 1.0, 2.0, 3.0, 4.0, 5.0, 6.0, 7.0, 8.0, 9.0, 10.0\n",
    "* boolean - true or false\n",
    "* list    - a collection of items, like [1, 2, 3, 4, 5]\n",
    "* tuple   - a collection of items, like (1, 2, 3, 4, 5)\n",
    "* dictionary - a collection of key-value pairs, like {'name': 'Bob', 'age': 23}\n"
   ]
  },
  {
   "cell_type": "code",
   "execution_count": 52,
   "metadata": {},
   "outputs": [
    {
     "name": "stdout",
     "output_type": "stream",
     "text": [
      "<class 'str'>\n",
      "4 jones\n",
      "<class 'int'>\n"
     ]
    }
   ],
   "source": [
    "f_name = '4'\n",
    "l_name = \"jones\"\n",
    "print(type(f_name))  # to check the type of the variable\n",
    "print(str(f_name) + \" \" + l_name) # to convert the variable (f_name) to string using the str() function/method\n",
    "print(type(int(f_name))) # to check the type of the variable and convert it to integer using the int() function/method"
   ]
  },
  {
   "cell_type": "markdown",
   "metadata": {},
   "source": [
    "## For next week\n",
    "We are going to learn about:\n",
    "* Strings, String Operations, and String Methods\n",
    "* Input\n"
   ]
  }
 ],
 "metadata": {
  "interpreter": {
   "hash": "854bdde8274e107395231dd6718fd565d5e83edd780eeccab4e7084d2cfd2f17"
  },
  "kernelspec": {
   "display_name": "Python 3.7.0 32-bit",
   "language": "python",
   "name": "python3"
  },
  "language_info": {
   "codemirror_mode": {
    "name": "ipython",
    "version": 3
   },
   "file_extension": ".py",
   "mimetype": "text/x-python",
   "name": "python",
   "nbconvert_exporter": "python",
   "pygments_lexer": "ipython3",
   "version": "3.9.7"
  },
  "orig_nbformat": 4
 },
 "nbformat": 4,
 "nbformat_minor": 2
}
